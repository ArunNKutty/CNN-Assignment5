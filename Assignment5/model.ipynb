{
  "nbformat": 4,
  "nbformat_minor": 0,
  "metadata": {
    "colab": {
      "provenance": []
    },
    "kernelspec": {
      "name": "python3",
      "display_name": "Python 3"
    },
    "language_info": {
      "name": "python"
    }
  },
  "cells": [
    {
      "cell_type": "code",
      "source": [
        "import torch.nn as nn\n",
        "import torch.nn.functional as F"
      ],
      "metadata": {
        "id": "icT72j1kizVg"
      },
      "execution_count": 1,
      "outputs": []
    },
    {
      "cell_type": "code",
      "execution_count": 2,
      "metadata": {
        "id": "V8R9hzsLIoSi"
      },
      "outputs": [],
      "source": [
        "class Net(nn.Module):\n",
        "    #This defines the structure of the NN.\n",
        "    def __init__(self):\n",
        "        super(Net, self).__init__()\n",
        "        self.conv1 = nn.Conv2d(1, 32, kernel_size=3)\n",
        "        self.conv2 = nn.Conv2d(32, 64, kernel_size=3)\n",
        "        self.conv3 = nn.Conv2d(64, 128, kernel_size=3)\n",
        "        self.conv4 = nn.Conv2d(128, 256, kernel_size=3)\n",
        "        self.fc1 = nn.Linear(4096, 50)\n",
        "        self.fc2 = nn.Linear(50, 10)\n",
        "\n",
        "    def forward(self, x):\n",
        "        x = F.relu(self.conv1(x), 2) # 28>26 | 1>3 | 1>1\n",
        "        x = F.relu(F.max_pool2d(self.conv2(x), 2)) #26>24>12 | 3>5>6 | 1>1>2\n",
        "        x = F.relu(self.conv3(x), 2) # 12>10 | 6>10 | 2>2\n",
        "        x = F.relu(F.max_pool2d(self.conv4(x), 2)) # 10>8>4 | 10>14>16 | 2>2>4\n",
        "        x = x.view(-1, 4096) # 4*4*256 = 4096\n",
        "        x = F.relu(self.fc1(x))\n",
        "        x = self.fc2(x)\n",
        "        return F.log_softmax(x, dim=1)"
      ]
    },
    {
      "cell_type": "code",
      "source": [
        "class Net2(nn.Module):\n",
        "    #This defines the structure of the NN.\n",
        "    def __init__(self):\n",
        "        super(Net2, self).__init__()\n",
        "        self.conv1 = nn.Conv2d(1, 32, kernel_size=3, bias=False)\n",
        "        self.conv2 = nn.Conv2d(32, 64, kernel_size=3, bias=False)\n",
        "        self.conv3 = nn.Conv2d(64, 128, kernel_size=3, bias=False)\n",
        "        self.conv4 = nn.Conv2d(128, 256, kernel_size=3, bias=False)\n",
        "        self.fc1 = nn.Linear(4096, 50, bias=False)\n",
        "        self.fc2 = nn.Linear(50, 10, bias=False)\n",
        "\n",
        "    def forward(self, x):\n",
        "        x = F.relu(self.conv1(x), 2) # 28>26 | 1>3 | 1>1\n",
        "        x = F.relu(F.max_pool2d(self.conv2(x), 2)) #26>24>12 | 3>5>6 | 1>1>2\n",
        "        x = F.relu(self.conv3(x), 2) # 12>10 | 6>10 | 2>2\n",
        "        x = F.relu(F.max_pool2d(self.conv4(x), 2)) # 10>8>4 | 10>14>16 | 2>2>4\n",
        "        x = x.view(-1, 4096) # 4*4*256 = 4096\n",
        "        x = F.relu(self.fc1(x))\n",
        "        x = self.fc2(x)\n",
        "        return F.log_softmax(x, dim=1)"
      ],
      "metadata": {
        "id": "_lZ-0K9rlEN5"
      },
      "execution_count": 3,
      "outputs": []
    },
    {
      "cell_type": "code",
      "source": [],
      "metadata": {
        "colab": {
          "base_uri": "https://localhost:8080/"
        },
        "id": "mdpkYkOoI6ym",
        "outputId": "a51d03f7-1a69-42d7-8fee-3f819e5f5e1c"
      },
      "execution_count": 6,
      "outputs": [
        {
          "output_type": "execute_result",
          "data": {
            "text/plain": [
              "3"
            ]
          },
          "metadata": {},
          "execution_count": 6
        }
      ]
    },
    {
      "cell_type": "code",
      "source": [],
      "metadata": {
        "colab": {
          "base_uri": "https://localhost:8080/"
        },
        "id": "GopBvBvMob1d",
        "outputId": "d42d7cdd-91e3-4846-d44e-1ceb70b27c0a"
      },
      "execution_count": 7,
      "outputs": [
        {
          "output_type": "stream",
          "name": "stdout",
          "text": [
            "Hello\n"
          ]
        }
      ]
    }
  ]
}