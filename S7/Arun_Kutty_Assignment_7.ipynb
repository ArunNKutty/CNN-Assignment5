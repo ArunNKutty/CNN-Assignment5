{
  "cells": [
    {
      "cell_type": "markdown",
      "metadata": {
        "id": "n09vaEgP6pLj"
      },
      "source": [
        "CODE BLOCK: 1\n"
      ]
    },
    {
      "cell_type": "code",
      "execution_count": null,
      "metadata": {
        "colab": {
          "base_uri": "https://localhost:8080/"
        },
        "id": "I05hUTS78ll8",
        "outputId": "fda3c0ac-a4f0-48a2-d052-30e0ca068ccb"
      },
      "outputs": [
        {
          "name": "stdout",
          "output_type": "stream",
          "text": [
            "Mounted at /content/drive\n"
          ]
        }
      ],
      "source": [
        "from google.colab import drive\n",
        "drive.mount('/content/drive',force_remount=True)\n",
        "\n"
      ]
    },
    {
      "cell_type": "code",
      "execution_count": null,
      "metadata": {
        "colab": {
          "base_uri": "https://localhost:8080/"
        },
        "id": "EtMYljaj9AZx",
        "outputId": "585f347b-21b2-462b-8af6-abe09718953b"
      },
      "outputs": [
        {
          "name": "stdout",
          "output_type": "stream",
          "text": [
            "/content/drive/MyDrive/S7\n"
          ]
        }
      ],
      "source": [
        "%cd \"/content/drive/MyDrive/S7/\""
      ]
    },
    {
      "cell_type": "code",
      "execution_count": null,
      "metadata": {
        "id": "6PlbomWY3RSq"
      },
      "outputs": [],
      "source": [
        "import torch\n",
        "import torch.nn as nn\n",
        "import torch.nn.functional as F\n",
        "import torch.optim as optim\n",
        "from torchvision import datasets, transforms\n",
        "import utils as ai_utils\n",
        "import model_2 as model2\n",
        "import model_3 as model3"
      ]
    },
    {
      "cell_type": "code",
      "execution_count": null,
      "metadata": {
        "colab": {
          "base_uri": "https://localhost:8080/"
        },
        "id": "F21m9baH9XUT",
        "outputId": "c6fb5e16-c0cb-4297-d9fc-13a32437fc70"
      },
      "outputs": [
        {
          "name": "stdout",
          "output_type": "stream",
          "text": [
            "Arun_Kutty_Assignment_7.ipynb  model_2.py     model_3.py   utils.ipynb\n",
            "model_2.ipynb\t\t       model_3.ipynb  __pycache__  utils.py\n"
          ]
        }
      ],
      "source": [
        "!ls"
      ]
    },
    {
      "cell_type": "markdown",
      "metadata": {
        "id": "VjBHHQVA6sXt"
      },
      "source": [
        "CODE BLOCK: 2\n"
      ]
    },
    {
      "cell_type": "code",
      "execution_count": null,
      "metadata": {
        "colab": {
          "base_uri": "https://localhost:8080/"
        },
        "id": "d2te2OXj95bY",
        "outputId": "2051154a-7fe3-47da-b469-da7d8228c781"
      },
      "outputs": [
        {
          "data": {
            "text/plain": [
              "['F',\n",
              " 'GetCorrectPredCount',\n",
              " '__builtins__',\n",
              " '__cached__',\n",
              " '__doc__',\n",
              " '__file__',\n",
              " '__loader__',\n",
              " '__name__',\n",
              " '__package__',\n",
              " '__spec__',\n",
              " 'create_dataloader',\n",
              " 'datasets',\n",
              " 'get_device',\n",
              " 'get_optimizer',\n",
              " 'get_scheduler',\n",
              " 'load_data',\n",
              " 'nn',\n",
              " 'optim',\n",
              " 'plot_accuracy_loss',\n",
              " 'plot_data',\n",
              " 'plt',\n",
              " 'run_epochs',\n",
              " 'test',\n",
              " 'test_acc',\n",
              " 'test_data_transformation',\n",
              " 'test_incorrect_pred',\n",
              " 'test_losses',\n",
              " 'torch',\n",
              " 'tqdm',\n",
              " 'train',\n",
              " 'train_acc',\n",
              " 'train_data_transformation',\n",
              " 'train_losses',\n",
              " 'transforms']"
            ]
          },
          "execution_count": 5,
          "metadata": {},
          "output_type": "execute_result"
        }
      ],
      "source": [
        "dir(ai_utils)"
      ]
    },
    {
      "cell_type": "code",
      "execution_count": null,
      "metadata": {
        "colab": {
          "base_uri": "https://localhost:8080/"
        },
        "id": "D-_H_IFe9_DP",
        "outputId": "40441781-e646-41fb-b466-f700ae40ed21"
      },
      "outputs": [
        {
          "data": {
            "text/plain": [
              "['F',\n",
              " 'Net2',\n",
              " '__builtins__',\n",
              " '__cached__',\n",
              " '__doc__',\n",
              " '__file__',\n",
              " '__loader__',\n",
              " '__name__',\n",
              " '__package__',\n",
              " '__spec__',\n",
              " 'dropout_value',\n",
              " 'nn']"
            ]
          },
          "execution_count": 6,
          "metadata": {},
          "output_type": "execute_result"
        }
      ],
      "source": [
        "dir(model2)"
      ]
    },
    {
      "cell_type": "code",
      "execution_count": null,
      "metadata": {
        "colab": {
          "base_uri": "https://localhost:8080/"
        },
        "id": "VFLAQH6SBgiD",
        "outputId": "30d01066-a6d4-40a7-9905-a1983b7e5d36"
      },
      "outputs": [
        {
          "data": {
            "text/plain": [
              "['F',\n",
              " 'Net3',\n",
              " '__builtins__',\n",
              " '__cached__',\n",
              " '__doc__',\n",
              " '__file__',\n",
              " '__loader__',\n",
              " '__name__',\n",
              " '__package__',\n",
              " '__spec__',\n",
              " 'nn']"
            ]
          },
          "execution_count": 7,
          "metadata": {},
          "output_type": "execute_result"
        }
      ],
      "source": [
        "dir(model3)"
      ]
    },
    {
      "cell_type": "code",
      "execution_count": null,
      "metadata": {
        "colab": {
          "base_uri": "https://localhost:8080/"
        },
        "id": "94BxVVBP3WwS",
        "outputId": "407f889b-0af0-45cf-8787-9146e5d2e99f"
      },
      "outputs": [
        {
          "data": {
            "text/plain": [
              "device(type='cuda')"
            ]
          },
          "execution_count": 8,
          "metadata": {},
          "output_type": "execute_result"
        }
      ],
      "source": [
        "ai_utils.get_device()"
      ]
    },
    {
      "cell_type": "markdown",
      "metadata": {
        "id": "3UHq59Sw6tmW"
      },
      "source": [
        "CODE BLOCK: 3\n"
      ]
    },
    {
      "cell_type": "code",
      "execution_count": null,
      "metadata": {
        "id": "KpshQ2Ug38m2"
      },
      "outputs": [],
      "source": [
        "train_transforms = ai_utils.train_data_transformation()\n",
        "test_transforms = ai_utils.test_data_transformation()"
      ]
    },
    {
      "cell_type": "markdown",
      "metadata": {
        "id": "zQm17pM46zHL"
      },
      "source": [
        "CODE BLOCK: 4\n"
      ]
    },
    {
      "cell_type": "code",
      "execution_count": null,
      "metadata": {
        "id": "JB79ZYW13-AO"
      },
      "outputs": [],
      "source": [
        "train_data = ai_utils.load_data('../data', isTrainable=True, isDownloadable=True, typeTransformation=train_transforms)\n",
        "test_data = ai_utils.load_data('../data', isTrainable=False, isDownloadable=True, typeTransformation=test_transforms)"
      ]
    },
    {
      "cell_type": "markdown",
      "metadata": {
        "id": "_PKSHxto6116"
      },
      "source": [
        "CODE BLOCK: 5\n"
      ]
    },
    {
      "cell_type": "code",
      "execution_count": null,
      "metadata": {
        "colab": {
          "base_uri": "https://localhost:8080/"
        },
        "id": "avCKK1uL4A68",
        "outputId": "f9779ce4-ae51-4eb1-8f32-253a840b92e0"
      },
      "outputs": [
        {
          "data": {
            "text/plain": [
              "469"
            ]
          },
          "execution_count": 11,
          "metadata": {},
          "output_type": "execute_result"
        }
      ],
      "source": [
        "batch_size = 128\n",
        "\n",
        "kwargs = {'batch_size': batch_size, 'shuffle': True, 'num_workers': 2, 'pin_memory': True}\n",
        "\n",
        "test_loader = ai_utils.create_dataloader(test_data,kwargs)\n",
        "train_loader = ai_utils.create_dataloader(train_data,kwargs)\n",
        "\n",
        "len(train_loader)"
      ]
    },
    {
      "cell_type": "markdown",
      "metadata": {
        "id": "Hi_0rfq56-29"
      },
      "source": [
        "CODE BLOCK: 6\n"
      ]
    },
    {
      "cell_type": "code",
      "execution_count": null,
      "metadata": {
        "colab": {
          "base_uri": "https://localhost:8080/",
          "height": 463
        },
        "id": "Hx7QkLcw4Epc",
        "outputId": "309d21f5-7734-4da8-c1da-40d75d403e15"
      },
      "outputs": [
        {
          "data": {
            "image/png": "[encoded data removed]",
            "text/plain": [
              "<Figure size 640x480 with 12 Axes>"
            ]
          },
          "metadata": {},
          "output_type": "display_data"
        }
      ],
      "source": [
        "ai_utils.plot_data(train_loader)"
      ]
    },
    {
      "cell_type": "markdown",
      "metadata": {
        "id": "y3XbVJSb7Aee"
      },
      "source": [
        "CODE BLOCK: 7\n"
      ]
    },
    {
      "cell_type": "code",
      "execution_count": null,
      "metadata": {
        "colab": {
          "base_uri": "https://localhost:8080/"
        },
        "id": "Y7_tgkrjCjaa",
        "outputId": "9627096a-5f90-4653-9f41-d3f2a8f16e52"
      },
      "outputs": [
        {
          "name": "stdout",
          "output_type": "stream",
          "text": [
            "Requirement already satisfied: torchsummary in /usr/local/lib/python3.10/dist-packages (1.5.1)\n"
          ]
        }
      ],
      "source": [
        "!pip install torchsummary\n"
      ]
    },
    {
      "cell_type": "code",
      "execution_count": null,
      "metadata": {
        "id": "kyzg-so7CoXE"
      },
      "outputs": [],
      "source": [
        "from torchsummary import summary"
      ]
    },
    {
      "cell_type": "code",
      "execution_count": null,
      "metadata": {
        "colab": {
          "base_uri": "https://localhost:8080/"
        },
        "id": "4dqP0jVmCZfT",
        "outputId": "9eddc8c8-ff97-4b93-f0cf-2d90ad8d40ca"
      },
      "outputs": [
        {
          "name": "stdout",
          "output_type": "stream",
          "text": [
            "----------------------------------------------------------------\n",
            "        Layer (type)               Output Shape         Param #\n",
            "================================================================\n",
            "            Conv2d-1            [-1, 8, 26, 26]              72\n",
            "              ReLU-2            [-1, 8, 26, 26]               0\n",
            "       BatchNorm2d-3            [-1, 8, 26, 26]              16\n",
            "           Dropout-4            [-1, 8, 26, 26]               0\n",
            "            Conv2d-5           [-1, 16, 24, 24]           1,152\n",
            "              ReLU-6           [-1, 16, 24, 24]               0\n",
            "       BatchNorm2d-7           [-1, 16, 24, 24]              32\n",
            "           Dropout-8           [-1, 16, 24, 24]               0\n",
            "         MaxPool2d-9           [-1, 16, 12, 12]               0\n",
            "           Conv2d-10            [-1, 8, 12, 12]             128\n",
            "             ReLU-11            [-1, 8, 12, 12]               0\n",
            "      BatchNorm2d-12            [-1, 8, 12, 12]              16\n",
            "           Conv2d-13           [-1, 12, 10, 10]             864\n",
            "             ReLU-14           [-1, 12, 10, 10]               0\n",
            "      BatchNorm2d-15           [-1, 12, 10, 10]              24\n",
            "          Dropout-16           [-1, 12, 10, 10]               0\n",
            "           Conv2d-17             [-1, 16, 8, 8]           1,728\n",
            "             ReLU-18             [-1, 16, 8, 8]               0\n",
            "      BatchNorm2d-19             [-1, 16, 8, 8]              32\n",
            "          Dropout-20             [-1, 16, 8, 8]               0\n",
            "           Conv2d-21             [-1, 20, 6, 6]           2,880\n",
            "             ReLU-22             [-1, 20, 6, 6]               0\n",
            "      BatchNorm2d-23             [-1, 20, 6, 6]              40\n",
            "          Dropout-24             [-1, 20, 6, 6]               0\n",
            "        AvgPool2d-25             [-1, 20, 1, 1]               0\n",
            "           Conv2d-26             [-1, 16, 1, 1]             320\n",
            "             ReLU-27             [-1, 16, 1, 1]               0\n",
            "      BatchNorm2d-28             [-1, 16, 1, 1]              32\n",
            "          Dropout-29             [-1, 16, 1, 1]               0\n",
            "           Conv2d-30             [-1, 10, 1, 1]             160\n",
            "================================================================\n",
            "Total params: 7,496\n",
            "Trainable params: 7,496\n",
            "Non-trainable params: 0\n",
            "----------------------------------------------------------------\n",
            "Input size (MB): 0.00\n",
            "Forward/backward pass size (MB): 0.58\n",
            "Params size (MB): 0.03\n",
            "Estimated Total Size (MB): 0.61\n",
            "----------------------------------------------------------------\n"
          ]
        }
      ],
      "source": [
        "device = ai_utils.get_device()\n",
        "model = model3.Net3().to(device)\n",
        "# model2 = Net2().to(device)\n",
        "\n",
        "summary(model, input_size=(1, 28, 28))\n",
        "# summary(model2,input_size=(1,28,28))"
      ]
    },
    {
      "cell_type": "code",
      "execution_count": null,
      "metadata": {
        "colab": {
          "background_save": true,
          "base_uri": "https://localhost:8080/"
        },
        "id": "L3kyt7CNC8jH",
        "outputId": "85b0c665-cb82-4fd8-fcda-12451a41df7c"
      },
      "outputs": [
        {
          "name": "stdout",
          "output_type": "stream",
          "text": [
            "Epoch 1\n"
          ]
        },
        {
          "name": "stderr",
          "output_type": "stream",
          "text": [
            "Train: Loss=0.0849 Batch_id=468 Accuracy=98.25: 100%|██████████| 469/469 [00:45<00:00, 10.36it/s]\n"
          ]
        },
        {
          "name": "stdout",
          "output_type": "stream",
          "text": [
            "Test set: Average loss: 0.0002, Accuracy: 9922/10000 (99.22%)\n",
            "\n",
            "Epoch 2\n"
          ]
        },
        {
          "name": "stderr",
          "output_type": "stream",
          "text": [
            "Train: Loss=0.0873 Batch_id=468 Accuracy=98.38: 100%|██████████| 469/469 [00:45<00:00, 10.29it/s]\n"
          ]
        },
        {
          "name": "stdout",
          "output_type": "stream",
          "text": [
            "Test set: Average loss: 0.0002, Accuracy: 9931/10000 (99.31%)\n",
            "\n",
            "Epoch 3\n"
          ]
        },
        {
          "name": "stderr",
          "output_type": "stream",
          "text": [
            "Train: Loss=0.0340 Batch_id=468 Accuracy=98.39: 100%|██████████| 469/469 [00:45<00:00, 10.35it/s]\n"
          ]
        },
        {
          "name": "stdout",
          "output_type": "stream",
          "text": [
            "Test set: Average loss: 0.0002, Accuracy: 9928/10000 (99.28%)\n",
            "\n",
            "Epoch 4\n"
          ]
        },
        {
          "name": "stderr",
          "output_type": "stream",
          "text": [
            "Train: Loss=0.0571 Batch_id=468 Accuracy=98.44: 100%|██████████| 469/469 [00:47<00:00,  9.80it/s]\n"
          ]
        },
        {
          "name": "stdout",
          "output_type": "stream",
          "text": [
            "Test set: Average loss: 0.0002, Accuracy: 9923/10000 (99.23%)\n",
            "\n",
            "Epoch 5\n"
          ]
        },
        {
          "name": "stderr",
          "output_type": "stream",
          "text": [
            "Train: Loss=0.0389 Batch_id=468 Accuracy=98.49: 100%|██████████| 469/469 [00:45<00:00, 10.32it/s]\n"
          ]
        },
        {
          "name": "stdout",
          "output_type": "stream",
          "text": [
            "Test set: Average loss: 0.0002, Accuracy: 9936/10000 (99.36%)\n",
            "\n",
            "Epoch 6\n"
          ]
        },
        {
          "name": "stderr",
          "output_type": "stream",
          "text": [
            "Train: Loss=0.0264 Batch_id=468 Accuracy=98.79: 100%|██████████| 469/469 [00:45<00:00, 10.30it/s]\n"
          ]
        },
        {
          "name": "stdout",
          "output_type": "stream",
          "text": [
            "Test set: Average loss: 0.0001, Accuracy: 9949/10000 (99.49%)\n",
            "\n",
            "Epoch 7\n"
          ]
        },
        {
          "name": "stderr",
          "output_type": "stream",
          "text": [
            "Train: Loss=0.0430 Batch_id=468 Accuracy=98.87: 100%|██████████| 469/469 [00:46<00:00, 10.13it/s]\n"
          ]
        },
        {
          "name": "stdout",
          "output_type": "stream",
          "text": [
            "Test set: Average loss: 0.0001, Accuracy: 9947/10000 (99.47%)\n",
            "\n",
            "Epoch 8\n"
          ]
        },
        {
          "name": "stderr",
          "output_type": "stream",
          "text": [
            "Train: Loss=0.0481 Batch_id=468 Accuracy=98.80: 100%|██████████| 469/469 [00:45<00:00, 10.30it/s]\n"
          ]
        },
        {
          "name": "stdout",
          "output_type": "stream",
          "text": [
            "Test set: Average loss: 0.0001, Accuracy: 9942/10000 (99.42%)\n",
            "\n",
            "Epoch 9\n"
          ]
        },
        {
          "name": "stderr",
          "output_type": "stream",
          "text": [
            "Train: Loss=0.0424 Batch_id=468 Accuracy=98.94: 100%|██████████| 469/469 [00:47<00:00,  9.89it/s]\n"
          ]
        },
        {
          "name": "stdout",
          "output_type": "stream",
          "text": [
            "Test set: Average loss: 0.0001, Accuracy: 9945/10000 (99.45%)\n",
            "\n",
            "Epoch 10\n"
          ]
        },
        {
          "name": "stderr",
          "output_type": "stream",
          "text": [
            "Train: Loss=0.0400 Batch_id=468 Accuracy=98.87: 100%|██████████| 469/469 [00:45<00:00, 10.35it/s]\n"
          ]
        },
        {
          "name": "stdout",
          "output_type": "stream",
          "text": [
            "Test set: Average loss: 0.0001, Accuracy: 9951/10000 (99.51%)\n",
            "\n",
            "Epoch 11\n"
          ]
        },
        {
          "name": "stderr",
          "output_type": "stream",
          "text": [
            "Train: Loss=0.0895 Batch_id=468 Accuracy=98.95: 100%|██████████| 469/469 [00:45<00:00, 10.33it/s]\n"
          ]
        },
        {
          "name": "stdout",
          "output_type": "stream",
          "text": [
            "Test set: Average loss: 0.0001, Accuracy: 9944/10000 (99.44%)\n",
            "\n",
            "Epoch 12\n"
          ]
        },
        {
          "name": "stderr",
          "output_type": "stream",
          "text": [
            "Train: Loss=0.0074 Batch_id=468 Accuracy=98.96: 100%|██████████| 469/469 [00:46<00:00, 10.17it/s]\n"
          ]
        },
        {
          "name": "stdout",
          "output_type": "stream",
          "text": [
            "Test set: Average loss: 0.0001, Accuracy: 9949/10000 (99.49%)\n",
            "\n",
            "Epoch 13\n"
          ]
        },
        {
          "name": "stderr",
          "output_type": "stream",
          "text": [
            "Train: Loss=0.0207 Batch_id=468 Accuracy=98.96: 100%|██████████| 469/469 [00:45<00:00, 10.30it/s]\n"
          ]
        },
        {
          "name": "stdout",
          "output_type": "stream",
          "text": [
            "Test set: Average loss: 0.0001, Accuracy: 9945/10000 (99.45%)\n",
            "\n",
            "Epoch 14\n"
          ]
        },
        {
          "name": "stderr",
          "output_type": "stream",
          "text": [
            "Train: Loss=0.0783 Batch_id=468 Accuracy=98.97: 100%|██████████| 469/469 [00:45<00:00, 10.28it/s]\n"
          ]
        },
        {
          "name": "stdout",
          "output_type": "stream",
          "text": [
            "Test set: Average loss: 0.0001, Accuracy: 9944/10000 (99.44%)\n",
            "\n"
          ]
        }
      ],
      "source": [
        "ai_utils.run_epochs(model,device,train_loader,test_loader)"
      ]
    }
  ],
  "metadata": {
    "accelerator": "GPU",
    "colab": {
      "gpuType": "T4",
      "provenance": []
    },
    "kernelspec": {
      "display_name": "Python 3",
      "name": "python3"
    },
    "language_info": {
      "name": "python"
    }
  },
  "nbformat": 4,
  "nbformat_minor": 0
}
